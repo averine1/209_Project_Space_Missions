{
 "cells": [
  {
   "cell_type": "code",
   "execution_count": 1,
   "metadata": {},
   "outputs": [],
   "source": [
    "import json"
   ]
  },
  {
   "cell_type": "code",
   "execution_count": 2,
   "metadata": {},
   "outputs": [],
   "source": [
    "# Load the original data\n",
    "with open('data_json/rockets.json', 'r') as f:\n",
    "    rockets_data = json.load(f)\n",
    "\n",
    "# Initialize new structures\n",
    "rockets_output = []\n",
    "configurations_output = []\n",
    "\n",
    "for rocket in rockets_data:\n",
    "    # Extracting the fields for rockets.json\n",
    "    rocket_info = {\n",
    "        \"rocket_name\": rocket.get(\"rocket_name\"),\n",
    "        \"rocket_details_link\": rocket.get(\"rocket_details_link\"),\n",
    "        \"rocket_id\": rocket.get(\"rocket_id\"),\n",
    "        \"description\": rocket.get(\"description\"),\n",
    "        \"missions\": rocket.get(\"mission_statistics\", {}).get(\"missions\"),\n",
    "        \"successes\": rocket.get(\"mission_statistics\", {}).get(\"successes\"),\n",
    "        \"partial_failures\": rocket.get(\"mission_statistics\", {}).get(\"partial_failures\"),\n",
    "        \"failures\": rocket.get(\"mission_statistics\", {}).get(\"failures\"),\n",
    "        \"success_streak\": rocket.get(\"mission_statistics\", {}).get(\"success_streak\"),\n",
    "        \"success_rate\": rocket.get(\"mission_statistics\", {}).get(\"success_rate\"),\n",
    "        \"configurations\": [config.get(\"name\") for config in rocket.get(\"configurations\", [])]\n",
    "    }\n",
    "    \n",
    "    rockets_output.append(rocket_info)\n",
    "    \n",
    "    # Extracting configurations for configurations.json\n",
    "    for config in rocket.get(\"configurations\", []):\n",
    "        configuration_info = {\n",
    "            \"name\": config.get(\"name\"),\n",
    "            \"image_url\": config.get(\"image_url\"),\n",
    "            \"company_name\": config.get(\"company_name\"),\n",
    "            \"status\": config.get(\"details\", {}).get(\"status\"),\n",
    "            \"price\": config.get(\"details\", {}).get(\"price\"),\n",
    "            \"liftoff_thrust\": config.get(\"details\", {}).get(\"liftoff_thrust\"),\n",
    "            \"payload_to_leo\": config.get(\"details\", {}).get(\"payload_to_leo\"),\n",
    "            \"payload_to_gto\": config.get(\"details\", {}).get(\"payload_to_gto\"),\n",
    "            \"stages\": config.get(\"details\", {}).get(\"stages\"),\n",
    "            \"strap-ons\": config.get(\"details\", {}).get(\"strap-ons\"),\n",
    "            \"rocket_height\": config.get(\"details\", {}).get(\"rocket_height\"),\n",
    "            \"fairing_diameter\": config.get(\"details\", {}).get(\"fairing_diameter\"),\n",
    "            \"fairing_height\": config.get(\"details\", {}).get(\"fairing_height\"),\n",
    "            \"rocket_id\": rocket.get(\"rocket_id\")  # Link back to the original rocket\n",
    "        }\n",
    "        \n",
    "        configurations_output.append(configuration_info)\n",
    "\n",
    "# Save the new JSON files\n",
    "with open('data_json/rockets_output.json', 'w') as f:\n",
    "    json.dump(rockets_output, f, indent=4)\n",
    "\n",
    "with open('data_json/configurations_output.json', 'w') as f:\n",
    "    json.dump(configurations_output, f, indent=4)"
   ]
  }
 ],
 "metadata": {
  "kernelspec": {
   "display_name": "Python 3 (ipykernel)",
   "language": "python",
   "name": "python3"
  },
  "language_info": {
   "codemirror_mode": {
    "name": "ipython",
    "version": 3
   },
   "file_extension": ".py",
   "mimetype": "text/x-python",
   "name": "python",
   "nbconvert_exporter": "python",
   "pygments_lexer": "ipython3",
   "version": "3.10.10"
  }
 },
 "nbformat": 4,
 "nbformat_minor": 4
}
