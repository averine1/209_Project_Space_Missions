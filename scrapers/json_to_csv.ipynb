{
 "cells": [
  {
   "cell_type": "code",
   "execution_count": 5,
   "metadata": {},
   "outputs": [],
   "source": [
    "import json\n",
    "import pandas as pd"
   ]
  },
  {
   "cell_type": "code",
   "execution_count": 6,
   "metadata": {},
   "outputs": [],
   "source": [
    "# Function to flatten nested JSON columns in a DataFrame\n",
    "def flatten_json(json_file_path, nested_columns):\n",
    "    # Read JSON file into a DataFrame\n",
    "    df = pd.read_json(json_file_path)\n",
    "    \n",
    "    # Flatten each nested column\n",
    "    for col in nested_columns:\n",
    "        normalized = pd.json_normalize(df[col])\n",
    "        normalized.columns = [f\"{col}.{sub_col}\" for sub_col in normalized.columns]\n",
    "        df = df.join(normalized)\n",
    "    \n",
    "    # Drop the original nested columns\n",
    "    df.drop(columns=nested_columns, inplace=True)\n",
    "    \n",
    "    return df"
   ]
  },
  {
   "cell_type": "code",
   "execution_count": 7,
   "metadata": {},
   "outputs": [],
   "source": [
    "# Specify the nested columns to flatten\n",
    "nested_columns = ['rocket_data', 'mission_data']\n",
    "\n",
    "# Process past launches data\n",
    "past_launches_df = flatten_json('data_json/past_launches.json', nested_columns)\n",
    "\n",
    "# Process upcoming launches data\n",
    "upcoming_launches_df = flatten_json('data_json/upcoming_launches.json', nested_columns)"
   ]
  },
  {
   "cell_type": "code",
   "execution_count": 8,
   "metadata": {},
   "outputs": [],
   "source": [
    "# Output the past launches data to a CSV file\n",
    "past_launches_df.to_csv('data_csv/past_launches.csv', index=False)\n",
    "\n",
    "# Output the upcoming launches data to a CSV file\n",
    "upcoming_launches_df.to_csv('data_csv/upcoming_launches.csv', index=False)"
   ]
  },
  {
   "cell_type": "code",
   "execution_count": 9,
   "metadata": {},
   "outputs": [],
   "source": [
    "# Read the JSON file into a DataFrame\n",
    "rockets_df = pd.read_json('data_json/rockets_output.json')\n",
    "\n",
    "# Convert the DataFrame to a CSV file\n",
    "rockets_df.to_csv('data_csv/rockets.csv', index=False)"
   ]
  },
  {
   "cell_type": "code",
   "execution_count": 10,
   "metadata": {},
   "outputs": [],
   "source": [
    "# Read the JSON file into a DataFrame\n",
    "configurations_df = pd.read_json('data_json/configurations_output.json')\n",
    "\n",
    "# Convert the DataFrame to a CSV file\n",
    "configurations_df.to_csv('data_csv/configurations.csv', index=False)"
   ]
  }
 ],
 "metadata": {
  "kernelspec": {
   "display_name": "Python 3 (ipykernel)",
   "language": "python",
   "name": "python3"
  },
  "language_info": {
   "codemirror_mode": {
    "name": "ipython",
    "version": 3
   },
   "file_extension": ".py",
   "mimetype": "text/x-python",
   "name": "python",
   "nbconvert_exporter": "python",
   "pygments_lexer": "ipython3",
   "version": "3.10.10"
  }
 },
 "nbformat": 4,
 "nbformat_minor": 4
}
